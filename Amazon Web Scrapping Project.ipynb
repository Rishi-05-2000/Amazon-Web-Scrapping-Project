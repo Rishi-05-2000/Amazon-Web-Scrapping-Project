{
 "cells": [
  {
   "cell_type": "code",
   "execution_count": 1,
   "id": "9a47e9c9",
   "metadata": {},
   "outputs": [],
   "source": [
    "# importing all the essential libraries \n",
    "\n",
    "from bs4 import BeautifulSoup\n",
    "import requests\n",
    "import time\n",
    "import datetime\n",
    "\n",
    "import smtplib"
   ]
  },
  {
   "cell_type": "code",
   "execution_count": 2,
   "id": "64664255",
   "metadata": {},
   "outputs": [
    {
     "name": "stdout",
     "output_type": "stream",
     "text": [
      "\n",
      "                   Darkbuck® Anime T Shirt for Men and Women Regular Jujutsu Kaisen Ryomen Sukuna Tshirts Unisex Pure Cotton Casual Wear Round Neck T-Shirt\n",
      "                  \n",
      "\n",
      "                     ₹599.00\n",
      "                    \n"
     ]
    }
   ],
   "source": [
    "# Establishing a Connection to the website and pulling all of the data\n",
    "#Encountered an error:AttributeError: 'NoneType' object has no attribute 'get_text'\n",
    "#Solved by using soup2.select_one('span.a-offscreen').get_text()\n",
    "#price = soup2.select_one('span.a-price.a-text-price.a-size-medium.apexPriceToPay').get_text(strip=True).split()[-1]\n",
    "URL = 'https://www.amazon.in/Darkbuck%C2%AE-Regular-Jujutsu-Tshirts-T-Shirt/dp/B09HM4TW92/ref=sr_1_omk_6?keywords=anime+t+shirt&qid=1644129698&sprefix=anime%2Caps%2C227&sr=8-6'\n",
    "headers = {\"User-Agent\": \"Mozilla/5.0 (Windows NT 10.0; Win64; x64) AppleWebKit/537.36 (KHTML, like Gecko) Chrome/97.0.4692.99 Safari/537.36\", \"Accept-Encoding\":\"gzip, deflate\", \"Accept\":\"text/html,application/xhtml+xml,application/xml;q=0.9,*/*;q=0.8\", \"DNT\":\"1\",\"Connection\":\"close\", \"Upgrade-Insecure-Requests\":\"1\"}\n",
    "page = requests.get(URL,headers = headers)\n",
    "soup1 = BeautifulSoup(page.content,'html.parser')\n",
    "soup2 = BeautifulSoup(soup1.prettify(),'html.parser')\n",
    "title = soup2.find(id = 'productTitle').get_text()\n",
    "price = soup2.select_one('span.a-offscreen').get_text()\n",
    "print(title)\n",
    "print(price)"
   ]
  },
  {
   "cell_type": "code",
   "execution_count": 3,
   "id": "5bbc4fb2",
   "metadata": {},
   "outputs": [
    {
     "name": "stdout",
     "output_type": "stream",
     "text": [
      "Darkbuck® Anime T Shirt for Men and Women Regular Jujutsu Kaisen Ryomen Sukuna Tshirts Unisex Pure Cotton Casual Wear Round Neck T-Shirt\n",
      "599.00\n"
     ]
    }
   ],
   "source": [
    "#Cleaning up the title and price text\n",
    "title = title.strip()\n",
    "price = price.strip()[1:]\n",
    "print(title)\n",
    "print(price)"
   ]
  },
  {
   "cell_type": "code",
   "execution_count": 4,
   "id": "87ec2149",
   "metadata": {},
   "outputs": [
    {
     "name": "stdout",
     "output_type": "stream",
     "text": [
      "2022-02-06\n"
     ]
    }
   ],
   "source": [
    "#Creating another variable as date in our dataframe\n",
    "import datetime\n",
    "today = datetime.date.today()\n",
    "print(today)"
   ]
  },
  {
   "cell_type": "code",
   "execution_count": 5,
   "id": "ec2e7cf9",
   "metadata": {},
   "outputs": [],
   "source": [
    "#Creating a csv file and formatting our data in it\n",
    "import csv\n",
    "header = ['Title','Price','Date']\n",
    "data = [title,price,today]\n",
    "\n",
    "with open('Amazon Web Scrapping Project.csv','w',newline='',encoding = 'UTF8') as f:\n",
    "    writer = csv.writer(f)\n",
    "    writer.writerow(header)\n",
    "    writer.writerow(data)"
   ]
  },
  {
   "cell_type": "code",
   "execution_count": 6,
   "id": "38ca39d2",
   "metadata": {},
   "outputs": [
    {
     "data": {
      "text/html": [
       "<div>\n",
       "<style scoped>\n",
       "    .dataframe tbody tr th:only-of-type {\n",
       "        vertical-align: middle;\n",
       "    }\n",
       "\n",
       "    .dataframe tbody tr th {\n",
       "        vertical-align: top;\n",
       "    }\n",
       "\n",
       "    .dataframe thead th {\n",
       "        text-align: right;\n",
       "    }\n",
       "</style>\n",
       "<table border=\"1\" class=\"dataframe\">\n",
       "  <thead>\n",
       "    <tr style=\"text-align: right;\">\n",
       "      <th></th>\n",
       "      <th>Title</th>\n",
       "      <th>Price</th>\n",
       "      <th>Date</th>\n",
       "    </tr>\n",
       "  </thead>\n",
       "  <tbody>\n",
       "    <tr>\n",
       "      <th>0</th>\n",
       "      <td>Darkbuck® Anime T Shirt for Men and Women Regu...</td>\n",
       "      <td>599.0</td>\n",
       "      <td>2022-02-06</td>\n",
       "    </tr>\n",
       "  </tbody>\n",
       "</table>\n",
       "</div>"
      ],
      "text/plain": [
       "                                               Title  Price        Date\n",
       "0  Darkbuck® Anime T Shirt for Men and Women Regu...  599.0  2022-02-06"
      ]
     },
     "execution_count": 6,
     "metadata": {},
     "output_type": "execute_result"
    }
   ],
   "source": [
    "#Importing our Table here\n",
    "import pandas as pd\n",
    "df = pd.read_csv(r'C:\\Users\\Rishi\\Amazon Web Scrapping Project.csv')\n",
    "df"
   ]
  },
  {
   "cell_type": "code",
   "execution_count": null,
   "id": "727b6968",
   "metadata": {},
   "outputs": [],
   "source": [
    "#Appending the data to our table\n",
    "with open('Amazon Web Scrapping Project.csv','a+',newline='',encoding = 'UTF8') as f:\n",
    "    writer = csv.writer(f)\n",
    "    writer.writerow(data)"
   ]
  },
  {
   "cell_type": "code",
   "execution_count": 16,
   "id": "8af5af51",
   "metadata": {},
   "outputs": [],
   "source": [
    "# Script for Mailing\n",
    "def send_mail():\n",
    "    server = smtplib.SMTP_SSL('smtp.gmail.com',465)\n",
    "    server.ehlo()\n",
    "    #server.starttls()\n",
    "    server.ehlo()\n",
    "    server.login('Rishipahade19@gmail.com','xxxxxxxx')\n",
    "    \n",
    "    subject = \"The Shirt you want is at 599! Now is your chance to buy!\"\n",
    "    body = \"Rishi,Jujutsu is calling you...!\"\n",
    "   \n",
    "    msg = f\"Subject: {subject}\\n\\n{body}\"\n",
    "    \n",
    "    server.sendmail(\n",
    "        'Rishipahade19@gmail.com',\n",
    "        msg\n",
    "     \n",
    "    )"
   ]
  },
  {
   "cell_type": "code",
   "execution_count": 21,
   "id": "1d111a69",
   "metadata": {},
   "outputs": [],
   "source": [
    "#Creating a function for all the things done above\n",
    "def check_price():\n",
    "    URL = 'https://www.amazon.in/Darkbuck%C2%AE-Regular-Jujutsu-Tshirts-T-Shirt/dp/B09HM4TW92/ref=sr_1_omk_6?keywords=anime+t+shirt&qid=1644129698&sprefix=anime%2Caps%2C227&sr=8-6'\n",
    "    headers = {\"User-Agent\": \"Mozilla/5.0 (Windows NT 10.0; Win64; x64) AppleWebKit/537.36 (KHTML, like Gecko) Chrome/97.0.4692.99 Safari/537.36\", \"Accept-Encoding\":\"gzip, deflate\", \"Accept\":\"text/html,application/xhtml+xml,application/xml;q=0.9,*/*;q=0.8\", \"DNT\":\"1\",\"Connection\":\"close\", \"Upgrade-Insecure-Requests\":\"1\"}\n",
    "    page = requests.get(URL,headers = headers)\n",
    "    soup1 = BeautifulSoup(page.content,'html.parser')\n",
    "    soup2 = BeautifulSoup(soup1.prettify(),'html.parser')\n",
    "    title = soup2.find(id = 'productTitle').get_text()\n",
    "    price = soup2.select_one('span.a-offscreen').get_text()\n",
    "    title = title.strip()\n",
    "    price = price.strip()[1:]\n",
    "    import datetime\n",
    "    today = datetime.date.today()\n",
    "    import csv\n",
    "    header = ['Title','Price','Date']\n",
    "    data = [title,price,today]\n",
    "    with open('Amazon Web Scrapping Project.csv','a+',newline='',encoding = 'UTF8') as f:\n",
    "        writer = csv.writer(f)\n",
    "        writer.writerow(data)\n",
    "    if (price == 599.0):\n",
    "        send_mail()"
   ]
  },
  {
   "cell_type": "code",
   "execution_count": 22,
   "id": "60aae62c",
   "metadata": {},
   "outputs": [
    {
     "ename": "KeyboardInterrupt",
     "evalue": "",
     "output_type": "error",
     "traceback": [
      "\u001b[1;31m---------------------------------------------------------------------------\u001b[0m",
      "\u001b[1;31mKeyboardInterrupt\u001b[0m                         Traceback (most recent call last)",
      "\u001b[1;32m<ipython-input-22-c2ea83b95698>\u001b[0m in \u001b[0;36m<module>\u001b[1;34m\u001b[0m\n\u001b[0;32m      2\u001b[0m \u001b[1;32mwhile\u001b[0m\u001b[1;33m(\u001b[0m\u001b[1;32mTrue\u001b[0m\u001b[1;33m)\u001b[0m\u001b[1;33m:\u001b[0m\u001b[1;33m\u001b[0m\u001b[1;33m\u001b[0m\u001b[0m\n\u001b[0;32m      3\u001b[0m     \u001b[0mcheck_price\u001b[0m\u001b[1;33m(\u001b[0m\u001b[1;33m)\u001b[0m\u001b[1;33m\u001b[0m\u001b[1;33m\u001b[0m\u001b[0m\n\u001b[1;32m----> 4\u001b[1;33m     \u001b[0mtime\u001b[0m\u001b[1;33m.\u001b[0m\u001b[0msleep\u001b[0m\u001b[1;33m(\u001b[0m\u001b[1;36m5\u001b[0m\u001b[1;33m)\u001b[0m\u001b[1;33m\u001b[0m\u001b[1;33m\u001b[0m\u001b[0m\n\u001b[0m",
      "\u001b[1;31mKeyboardInterrupt\u001b[0m: "
     ]
    }
   ],
   "source": [
    "#Automating the above stuff\n",
    "while(True):\n",
    "    check_price()\n",
    "    time.sleep(5)"
   ]
  },
  {
   "cell_type": "code",
   "execution_count": 23,
   "id": "7fac0c6b",
   "metadata": {},
   "outputs": [
    {
     "data": {
      "text/html": [
       "<div>\n",
       "<style scoped>\n",
       "    .dataframe tbody tr th:only-of-type {\n",
       "        vertical-align: middle;\n",
       "    }\n",
       "\n",
       "    .dataframe tbody tr th {\n",
       "        vertical-align: top;\n",
       "    }\n",
       "\n",
       "    .dataframe thead th {\n",
       "        text-align: right;\n",
       "    }\n",
       "</style>\n",
       "<table border=\"1\" class=\"dataframe\">\n",
       "  <thead>\n",
       "    <tr style=\"text-align: right;\">\n",
       "      <th></th>\n",
       "      <th>Title</th>\n",
       "      <th>Price</th>\n",
       "      <th>Date</th>\n",
       "    </tr>\n",
       "  </thead>\n",
       "  <tbody>\n",
       "    <tr>\n",
       "      <th>0</th>\n",
       "      <td>Darkbuck® Anime T Shirt for Men and Women Regu...</td>\n",
       "      <td>599.0</td>\n",
       "      <td>2022-02-06</td>\n",
       "    </tr>\n",
       "    <tr>\n",
       "      <th>1</th>\n",
       "      <td>Darkbuck® Anime T Shirt for Men and Women Regu...</td>\n",
       "      <td>599.0</td>\n",
       "      <td>2022-02-06</td>\n",
       "    </tr>\n",
       "    <tr>\n",
       "      <th>2</th>\n",
       "      <td>Darkbuck® Anime T Shirt for Men and Women Regu...</td>\n",
       "      <td>599.0</td>\n",
       "      <td>2022-02-06</td>\n",
       "    </tr>\n",
       "    <tr>\n",
       "      <th>3</th>\n",
       "      <td>Darkbuck® Anime T Shirt for Men and Women Regu...</td>\n",
       "      <td>599.0</td>\n",
       "      <td>2022-02-06</td>\n",
       "    </tr>\n",
       "    <tr>\n",
       "      <th>4</th>\n",
       "      <td>Darkbuck® Anime T Shirt for Men and Women Regu...</td>\n",
       "      <td>599.0</td>\n",
       "      <td>2022-02-06</td>\n",
       "    </tr>\n",
       "    <tr>\n",
       "      <th>5</th>\n",
       "      <td>Darkbuck® Anime T Shirt for Men and Women Regu...</td>\n",
       "      <td>599.0</td>\n",
       "      <td>2022-02-06</td>\n",
       "    </tr>\n",
       "    <tr>\n",
       "      <th>6</th>\n",
       "      <td>Darkbuck® Anime T Shirt for Men and Women Regu...</td>\n",
       "      <td>599.0</td>\n",
       "      <td>2022-02-06</td>\n",
       "    </tr>\n",
       "    <tr>\n",
       "      <th>7</th>\n",
       "      <td>Darkbuck® Anime T Shirt for Men and Women Regu...</td>\n",
       "      <td>599.0</td>\n",
       "      <td>2022-02-06</td>\n",
       "    </tr>\n",
       "    <tr>\n",
       "      <th>8</th>\n",
       "      <td>Darkbuck® Anime T Shirt for Men and Women Regu...</td>\n",
       "      <td>599.0</td>\n",
       "      <td>2022-02-06</td>\n",
       "    </tr>\n",
       "    <tr>\n",
       "      <th>9</th>\n",
       "      <td>Darkbuck® Anime T Shirt for Men and Women Regu...</td>\n",
       "      <td>599.0</td>\n",
       "      <td>2022-02-06</td>\n",
       "    </tr>\n",
       "    <tr>\n",
       "      <th>10</th>\n",
       "      <td>Darkbuck® Anime T Shirt for Men and Women Regu...</td>\n",
       "      <td>599.0</td>\n",
       "      <td>2022-02-06</td>\n",
       "    </tr>\n",
       "    <tr>\n",
       "      <th>11</th>\n",
       "      <td>Darkbuck® Anime T Shirt for Men and Women Regu...</td>\n",
       "      <td>599.0</td>\n",
       "      <td>2022-02-06</td>\n",
       "    </tr>\n",
       "    <tr>\n",
       "      <th>12</th>\n",
       "      <td>Darkbuck® Anime T Shirt for Men and Women Regu...</td>\n",
       "      <td>599.0</td>\n",
       "      <td>2022-02-06</td>\n",
       "    </tr>\n",
       "  </tbody>\n",
       "</table>\n",
       "</div>"
      ],
      "text/plain": [
       "                                                Title  Price        Date\n",
       "0   Darkbuck® Anime T Shirt for Men and Women Regu...  599.0  2022-02-06\n",
       "1   Darkbuck® Anime T Shirt for Men and Women Regu...  599.0  2022-02-06\n",
       "2   Darkbuck® Anime T Shirt for Men and Women Regu...  599.0  2022-02-06\n",
       "3   Darkbuck® Anime T Shirt for Men and Women Regu...  599.0  2022-02-06\n",
       "4   Darkbuck® Anime T Shirt for Men and Women Regu...  599.0  2022-02-06\n",
       "5   Darkbuck® Anime T Shirt for Men and Women Regu...  599.0  2022-02-06\n",
       "6   Darkbuck® Anime T Shirt for Men and Women Regu...  599.0  2022-02-06\n",
       "7   Darkbuck® Anime T Shirt for Men and Women Regu...  599.0  2022-02-06\n",
       "8   Darkbuck® Anime T Shirt for Men and Women Regu...  599.0  2022-02-06\n",
       "9   Darkbuck® Anime T Shirt for Men and Women Regu...  599.0  2022-02-06\n",
       "10  Darkbuck® Anime T Shirt for Men and Women Regu...  599.0  2022-02-06\n",
       "11  Darkbuck® Anime T Shirt for Men and Women Regu...  599.0  2022-02-06\n",
       "12  Darkbuck® Anime T Shirt for Men and Women Regu...  599.0  2022-02-06"
      ]
     },
     "execution_count": 23,
     "metadata": {},
     "output_type": "execute_result"
    }
   ],
   "source": [
    "#Checking the Code\n",
    "import pandas as pd\n",
    "df = pd.read_csv(r'C:\\Users\\Rishi\\Amazon Web Scrapping Project.csv')\n",
    "df"
   ]
  },
  {
   "cell_type": "code",
   "execution_count": 11,
   "id": "3b0b9300",
   "metadata": {},
   "outputs": [],
   "source": []
  },
  {
   "cell_type": "code",
   "execution_count": null,
   "id": "1eb7026f",
   "metadata": {},
   "outputs": [],
   "source": []
  }
 ],
 "metadata": {
  "kernelspec": {
   "display_name": "Python 3",
   "language": "python",
   "name": "python3"
  },
  "language_info": {
   "codemirror_mode": {
    "name": "ipython",
    "version": 3
   },
   "file_extension": ".py",
   "mimetype": "text/x-python",
   "name": "python",
   "nbconvert_exporter": "python",
   "pygments_lexer": "ipython3",
   "version": "3.8.8"
  }
 },
 "nbformat": 4,
 "nbformat_minor": 5
}
